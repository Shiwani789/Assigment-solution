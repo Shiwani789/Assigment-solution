{
 "cells": [
  {
   "cell_type": "markdown",
   "id": "0254c395-ca01-487a-bb81-bb3e01d3f551",
   "metadata": {},
   "source": [
    "Python for Loop Assignment\n"
   ]
  },
  {
   "cell_type": "markdown",
   "id": "b18a7852-eecf-4931-a887-da5c33d44977",
   "metadata": {},
   "source": [
    "Question 1: Write a Python program to print all the numbers from 1 to 10 using a for loop. "
   ]
  },
  {
   "cell_type": "code",
   "execution_count": 3,
   "id": "00d9d88e-8208-4d8d-81ae-605f28755597",
   "metadata": {},
   "outputs": [
    {
     "name": "stdout",
     "output_type": "stream",
     "text": [
      "0\n",
      "1\n",
      "2\n",
      "3\n",
      "4\n",
      "5\n",
      "6\n",
      "7\n",
      "8\n",
      "9\n",
      "10\n"
     ]
    }
   ],
   "source": [
    "for i in range(11):\n",
    "    print(i)"
   ]
  },
  {
   "cell_type": "markdown",
   "id": "d7489e93-49b8-4598-8c12-03cd59f5101c",
   "metadata": {},
   "source": [
    "Question 2: Write a Python program to find the sum of all numbers from 1 to 100 using a for\n",
    "loop."
   ]
  },
  {
   "cell_type": "code",
   "execution_count": 4,
   "id": "0aa4fb39-0eac-4649-9e5c-3905307cd7d2",
   "metadata": {},
   "outputs": [
    {
     "name": "stdout",
     "output_type": "stream",
     "text": [
      "sum of all numbers 5050\n"
     ]
    }
   ],
   "source": [
    "total = 0\n",
    "for i in range(101):\n",
    "    total +=i\n",
    "print(\"sum of all numbers\",total)\n"
   ]
  },
  {
   "cell_type": "markdown",
   "id": "01290bc5-eb8c-4c46-aefc-4b8af544897c",
   "metadata": {},
   "source": [
    "Question 3: Write a Python program to print the multiplication table of a given number using a\n",
    "for loop."
   ]
  },
  {
   "cell_type": "code",
   "execution_count": 6,
   "id": "69b6d225-4e6f-45bd-ae49-048bbb06393e",
   "metadata": {},
   "outputs": [
    {
     "name": "stdin",
     "output_type": "stream",
     "text": [
      "Enter your number for table:  5\n"
     ]
    },
    {
     "name": "stdout",
     "output_type": "stream",
     "text": [
      "5 x 0 = 0\n",
      "5 x 1 = 5\n",
      "5 x 2 = 10\n",
      "5 x 3 = 15\n",
      "5 x 4 = 20\n",
      "5 x 5 = 25\n",
      "5 x 6 = 30\n",
      "5 x 7 = 35\n",
      "5 x 8 = 40\n",
      "5 x 9 = 45\n",
      "5 x 10 = 50\n"
     ]
    }
   ],
   "source": [
    "number = int(input(\"Enter your number for table: \"))\n",
    "for i in range(11):\n",
    "    print(f\"{number} x {i} = {number * i}\")"
   ]
  },
  {
   "cell_type": "markdown",
   "id": "442554dc-788e-45d4-b02f-ada818f0a4d1",
   "metadata": {},
   "source": [
    "Question 4: Write a Python program to count the number of even and odd numbers from a\n",
    "series of numbers using a for loop.\n",
    "Hint: Find even and odd from this list: [1, 2, 3, 4, 5, 6, 7, 8, 9, 10]"
   ]
  },
  {
   "cell_type": "code",
   "execution_count": 9,
   "id": "8da92ac7-ed9a-43b7-88c2-63f58f9a7a31",
   "metadata": {},
   "outputs": [
    {
     "name": "stdout",
     "output_type": "stream",
     "text": [
      "number of even numbers:  5\n",
      "Number of odd numbers: 5\n"
     ]
    }
   ],
   "source": [
    "even_no = 0\n",
    "odd_no = 0\n",
    "list = [1,2,3,4,5,6,7,8,9,10]\n",
    "for i in list:\n",
    "    if i % 2==0:\n",
    "      even_no +=1\n",
    "    else:\n",
    "      odd_no +=1\n",
    "print(\"number of even numbers: \",even_no)\n",
    "print(\"Number of odd numbers:\", odd_no) \n",
    "\n",
    "    \n"
   ]
  },
  {
   "cell_type": "markdown",
   "id": "fecca8e4-185c-430b-9ca9-cef1708030c1",
   "metadata": {},
   "source": [
    "Question 5: Write a Python program to find the factorial of a number using a for loop."
   ]
  },
  {
   "cell_type": "code",
   "execution_count": 14,
   "id": "29b84f8b-e3c9-49bf-b70b-d4b648e36102",
   "metadata": {},
   "outputs": [
    {
     "name": "stdin",
     "output_type": "stream",
     "text": [
      "Enter a number:  6\n"
     ]
    },
    {
     "name": "stdout",
     "output_type": "stream",
     "text": [
      "The factorial of 6 is 720.\n"
     ]
    }
   ],
   "source": [
    "num = int(input(\"Enter a number: \"))\n",
    "factorial = 1\n",
    "for i in range(1, num + 1):\n",
    "        factorial *= i\n",
    "print(f\"The factorial of {num} is {factorial}.\")"
   ]
  },
  {
   "cell_type": "markdown",
   "id": "b3d02a27-77d8-4375-ba7b-99ec5bff563c",
   "metadata": {},
   "source": [
    "Question 6: Write a Python program to print the Fibonacci sequence up to a specified number\n",
    "using a for loop."
   ]
  },
  {
   "cell_type": "code",
   "execution_count": 15,
   "id": "86c37db4-6cd0-4a0f-9acd-bddd3eb04504",
   "metadata": {},
   "outputs": [
    {
     "name": "stdin",
     "output_type": "stream",
     "text": [
      "Enter a number:  10\n"
     ]
    },
    {
     "name": "stdout",
     "output_type": "stream",
     "text": [
      "Fibonacci sequence up to 10 :\n",
      "0 1 1 2 3 5 8 "
     ]
    }
   ],
   "source": [
    "\n",
    "num = int(input(\"Enter a number: \"))\n",
    "\n",
    "a, b = 0, 1\n",
    "\n",
    "\n",
    "print(\"Fibonacci sequence up to\", num, \":\")\n",
    "\n",
    "for _ in range(num):\n",
    "    if a > num:\n",
    "        break\n",
    "    print(a, end=\" \")\n",
    "    a, b = b, a + b"
   ]
  },
  {
   "cell_type": "markdown",
   "id": "a204d1f2-3410-4e81-9689-8f525aa72c3a",
   "metadata": {},
   "source": [
    "Question 7: Write a Python program to check if a given number is prime or  \n",
    "not using a for loop."
   ]
  },
  {
   "cell_type": "code",
   "execution_count": 16,
   "id": "5d63cb48-7372-4153-9fee-e320f2e63d6e",
   "metadata": {},
   "outputs": [
    {
     "name": "stdin",
     "output_type": "stream",
     "text": [
      "Enter a number:  20\n"
     ]
    },
    {
     "name": "stdout",
     "output_type": "stream",
     "text": [
      "20 is not a prime number.\n"
     ]
    }
   ],
   "source": [
    "\n",
    "num = int(input(\"Enter a number: \"))\n",
    "\n",
    "\n",
    "if num <= 1:\n",
    "    print(num, \"is not a prime number.\")\n",
    "else:\n",
    "    is_prime = True\n",
    "    for i in range(2, int(num**0.5) + 1):\n",
    "        if num % i == 0:\n",
    "            is_prime = False\n",
    "            break\n",
    "\n",
    "    if is_prime:\n",
    "        print(num, \"is a prime number.\")\n",
    "    else:\n",
    "        print(num, \"is not a prime number.\")"
   ]
  },
  {
   "cell_type": "markdown",
   "id": "a59d4f94-8964-42b2-8d3c-9050ca585362",
   "metadata": {},
   "source": [
    "Question 8: Write a Python program to find the largest element in a list using a for loop."
   ]
  },
  {
   "cell_type": "code",
   "execution_count": 18,
   "id": "7b578158-4dda-4788-a8dd-f19fdcd0c8b7",
   "metadata": {},
   "outputs": [
    {
     "name": "stdout",
     "output_type": "stream",
     "text": [
      "the largest numbers is:  89\n"
     ]
    }
   ],
   "source": [
    "numbers = [12, 45, 23, 67, 89, 34, 22]\n",
    "largest = numbers[0]\n",
    "for num in numbers:\n",
    "    if num > largest:\n",
    "        largest = num\n",
    "print(\"the largest numbers is: \",largest)"
   ]
  },
  {
   "cell_type": "markdown",
   "id": "2388db03-1440-4615-bec2-cc9ee8394b99",
   "metadata": {},
   "source": [
    "Question 9: Write a Python program to reverse a given string using a for loop."
   ]
  },
  {
   "cell_type": "code",
   "execution_count": 24,
   "id": "8fbf835b-8b9e-4421-ae62-1217872c6922",
   "metadata": {},
   "outputs": [
    {
     "name": "stdin",
     "output_type": "stream",
     "text": [
      "Enter a string:  hello python\n"
     ]
    },
    {
     "name": "stdout",
     "output_type": "stream",
     "text": [
      "reversed strings: hello pythonhello pythonhello pythonhello pythonhello pythonhello pythonhello pythonhello pythonhello pythonhello pythonhello pythonhello python\n"
     ]
    }
   ],
   "source": [
    "string = input(\"Enter a string: \")\n",
    "reversed_text = \"\"\n",
    "for text in string:\n",
    "    reversed_text = string + reversed_text\n",
    "print(\"reversed strings:\",reversed_text)   "
   ]
  },
  {
   "cell_type": "code",
   "execution_count": 25,
   "id": "8b26e2b1-9021-417d-b3ff-4613d494b5ab",
   "metadata": {},
   "outputs": [
    {
     "name": "stdin",
     "output_type": "stream",
     "text": [
      "Enter a string:  hello python\n"
     ]
    },
    {
     "name": "stdout",
     "output_type": "stream",
     "text": [
      "Reversed string: nohtyp olleh\n"
     ]
    }
   ],
   "source": [
    "text = input(\"Enter a string: \")\n",
    "reversed_text = \"\"\n",
    "for char in text:\n",
    "    reversed_text = char + reversed_text  # Add each character to the front\n",
    "print(\"Reversed string:\", reversed_text)"
   ]
  },
  {
   "cell_type": "code",
   "execution_count": null,
   "id": "51ab347b-dfae-4cc1-8d69-4520462406a7",
   "metadata": {},
   "outputs": [],
   "source": [
    "common_list = []\n",
    "List1 = [1, 2, 3]\n",
    "List2 = [4, 5, 1]\n",
    "for item in list1:\n",
    "    if item in list2\n",
    "    common_list.append(item)\n",
    "print(\"common_elements: \",common_elements)"
   ]
  }
 ],
 "metadata": {
  "kernelspec": {
   "display_name": "Python 3 (ipykernel)",
   "language": "python",
   "name": "python3"
  },
  "language_info": {
   "codemirror_mode": {
    "name": "ipython",
    "version": 3
   },
   "file_extension": ".py",
   "mimetype": "text/x-python",
   "name": "python",
   "nbconvert_exporter": "python",
   "pygments_lexer": "ipython3",
   "version": "3.13.3"
  }
 },
 "nbformat": 4,
 "nbformat_minor": 5
}
